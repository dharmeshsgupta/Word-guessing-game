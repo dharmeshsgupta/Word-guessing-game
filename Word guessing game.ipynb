{
 "cells": [
  {
   "cell_type": "code",
   "execution_count": 1,
   "id": "3549ceac-97ec-4aa3-b0c4-57fa889b9dd8",
   "metadata": {},
   "outputs": [],
   "source": [
    "# Read the list of words from a file (words.text)\n",
    "# Choose a random word\n",
    "# Attempt = 6\n",
    "# Loop\n",
    "#     Display word\n",
    "#         for each letter in secret word\n",
    "#             if user quessed that letter\n",
    "#                  print It"
   ]
  },
  {
   "cell_type": "code",
   "execution_count": 2,
   "id": "c7315257-0e9b-498f-abb2-485de8e1ef2e",
   "metadata": {},
   "outputs": [],
   "source": [
    "# Loop\n",
    "# Ask: roll the dice\n",
    "# If user enter y\n",
    "#     generate two numbers\n",
    "#     print them\n",
    "# If user enter n\n",
    "#     print thank you message\n",
    "#     Terminate \n",
    "# Else\n",
    "#     Print Invalid choice\n"
   ]
  },
  {
   "cell_type": "code",
   "execution_count": 6,
   "id": "10cd26ad-fcb2-416d-bb52-b4eb77866e0b",
   "metadata": {},
   "outputs": [
    {
     "name": "stdin",
     "output_type": "stream",
     "text": [
      "Roll The Dice? (y/n): y\n"
     ]
    },
    {
     "name": "stdout",
     "output_type": "stream",
     "text": [
      "(5,5)\n"
     ]
    },
    {
     "name": "stdin",
     "output_type": "stream",
     "text": [
      "Roll The Dice? (y/n): Y\n"
     ]
    },
    {
     "name": "stdout",
     "output_type": "stream",
     "text": [
      "(1,1)\n"
     ]
    },
    {
     "name": "stdin",
     "output_type": "stream",
     "text": [
      "Roll The Dice? (y/n): Y\n"
     ]
    },
    {
     "name": "stdout",
     "output_type": "stream",
     "text": [
      "(3,3)\n"
     ]
    },
    {
     "name": "stdin",
     "output_type": "stream",
     "text": [
      "Roll The Dice? (y/n): y\n"
     ]
    },
    {
     "name": "stdout",
     "output_type": "stream",
     "text": [
      "(4,4)\n"
     ]
    },
    {
     "name": "stdin",
     "output_type": "stream",
     "text": [
      "Roll The Dice? (y/n): n\n"
     ]
    },
    {
     "name": "stdout",
     "output_type": "stream",
     "text": [
      "Dhanyavaad Khelne ke liye\n"
     ]
    }
   ],
   "source": [
    "import random\n",
    "\n",
    "while True:\n",
    "    choice = input(\"Roll The Dice? (y/n):\").lower()\n",
    "    if choice == 'y':\n",
    "        die1 = random.randint(1,6)\n",
    "        die2 = random.randint(1,6)\n",
    "        print(f\"({die1},{die1})\")\n",
    "    elif choice == 'n':\n",
    "        print(\"Dhanyavaad Khelne ke liye\")\n",
    "        break\n",
    "    else:\n",
    "        print(\"Invalid choice\")"
   ]
  },
  {
   "cell_type": "code",
   "execution_count": null,
   "id": "63196d4a-994a-4dc7-b6cf-a816ada5f093",
   "metadata": {},
   "outputs": [],
   "source": []
  }
 ],
 "metadata": {
  "kernelspec": {
   "display_name": "Python 3 (ipykernel)",
   "language": "python",
   "name": "python3"
  },
  "language_info": {
   "codemirror_mode": {
    "name": "ipython",
    "version": 3
   },
   "file_extension": ".py",
   "mimetype": "text/x-python",
   "name": "python",
   "nbconvert_exporter": "python",
   "pygments_lexer": "ipython3",
   "version": "3.12.4"
  }
 },
 "nbformat": 4,
 "nbformat_minor": 5
}
